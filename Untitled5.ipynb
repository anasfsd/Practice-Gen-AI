{
  "nbformat": 4,
  "nbformat_minor": 0,
  "metadata": {
    "colab": {
      "provenance": [],
      "authorship_tag": "ABX9TyN8vTYhZBTZSioDmPuNEIX9",
      "include_colab_link": true
    },
    "kernelspec": {
      "name": "python3",
      "display_name": "Python 3"
    },
    "language_info": {
      "name": "python"
    }
  },
  "cells": [
    {
      "cell_type": "markdown",
      "metadata": {
        "id": "view-in-github",
        "colab_type": "text"
      },
      "source": [
        "<a href=\"https://colab.research.google.com/github/anasfsd/Practice-Gen-AI/blob/main/Untitled5.ipynb\" target=\"_parent\"><img src=\"https://colab.research.google.com/assets/colab-badge.svg\" alt=\"Open In Colab\"/></a>"
      ]
    },
    {
      "cell_type": "code",
      "execution_count": 2,
      "metadata": {
        "colab": {
          "base_uri": "https://localhost:8080/"
        },
        "id": "Lc5m21OJcrG2",
        "outputId": "ada85782-de7a-4fa1-ec25-eff0f9dded91"
      },
      "outputs": [
        {
          "output_type": "stream",
          "name": "stdout",
          "text": [
            "Temperature Converter\n",
            "1. Convert Celsius to Fahrenheit\n",
            "2. Convert Fahrenheit to Celsius\n",
            "Enter your choice (1 or 2): 1\n",
            "Enter temperature in Celsius: 20\n",
            "20.0°C is equal to 68.0°F\n"
          ]
        }
      ],
      "source": [
        "def celsius_to_fahrenheit(celsius):\n",
        "    return (celsius * 9/5) + 32\n",
        "\n",
        "def fahrenheit_to_celsius(fahrenheit):\n",
        "    return (fahrenheit - 32) * 5/9\n",
        "\n",
        "# Main program\n",
        "print(\"Temperature Converter\")\n",
        "print(\"1. Convert Celsius to Fahrenheit\")\n",
        "print(\"2. Convert Fahrenheit to Celsius\")\n",
        "\n",
        "choice = input(\"Enter your choice (1 or 2): \")\n",
        "\n",
        "if choice == '1':\n",
        "    celsius = float(input(\"Enter temperature in Celsius: \"))\n",
        "    fahrenheit = celsius_to_fahrenheit(celsius)\n",
        "    print(f\"{celsius}°C is equal to {fahrenheit}°F\")\n",
        "elif choice == '2':\n",
        "    fahrenheit = float(input(\"Enter temperature in Fahrenheit: \"))\n",
        "    celsius = fahrenheit_to_celsius(fahrenheit)\n",
        "    print(f\"{fahrenheit}°F is equal to {celsius}°C\")\n",
        "else:\n",
        "    print(\"Invalid choice. Please enter 1 or 2.\")\n"
      ]
    },
    {
      "cell_type": "code",
      "source": [],
      "metadata": {
        "id": "SZXrUm0mdCp2"
      },
      "execution_count": null,
      "outputs": []
    }
  ]
}